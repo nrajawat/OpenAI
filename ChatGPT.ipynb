{
 "cells": [
  {
   "cell_type": "code",
   "execution_count": 1,
   "id": "07bee128",
   "metadata": {},
   "outputs": [],
   "source": [
    "from revChatGPT.ChatGPT import Chatbot"
   ]
  },
  {
   "cell_type": "code",
   "execution_count": 2,
   "id": "0a327902",
   "metadata": {},
   "outputs": [
    {
     "ename": "SyntaxError",
     "evalue": "invalid syntax (4058369977.py, line 2)",
     "output_type": "error",
     "traceback": [
      "\u001b[0;36m  Cell \u001b[0;32mIn[2], line 2\u001b[0;36m\u001b[0m\n\u001b[0;31m    \"session_token\": \"eyJhbGciOiJkaXIiLCJlbmMiOiJBMjU2R0NNIn0...qU8QIJV9qHYeFWeW8l10OA\" (replace using your own session token);\u001b[0m\n\u001b[0m                                                                                                 ^\u001b[0m\n\u001b[0;31mSyntaxError\u001b[0m\u001b[0;31m:\u001b[0m invalid syntax\n"
     ]
    }
   ],
   "source": [
    "chatbot = Chatbot({\n",
    "  \"session_token\": \"eyJhbGciOiJkaXIiLCJlbmMiOiJBMjU2R0NNIn0...qU8QIJV9qHYeFWeW8l10OA\" (replace using your own session token);\n",
    "}, conversation_id=None, parent_id=None) # You can start a custom conversation\n",
    "\n",
    "response = chatbot.ask(\"write a story about Sam who live in Florida\", conversation_id=None, parent_id=None) # You can specify custom conversation and parent ids. Otherwise it uses the saved conversation (yes. conversations are automatically saved)\n",
    "#output = response.json()['choices'][0]['text']\n",
    "print(response['message'])\n",
    "#print(response)\n",
    "#{\n",
    "#    \"message\": response['message']\n",
    "#    \"conversation_id\": response['conversation_id']\n",
    "#    \"parent_id\": response['parent_id']\n",
    "#}\n",
    "conversation_id=response['conversation_id']\n",
    "parent_id=response['parent_id']"
   ]
  },
  {
   "cell_type": "code",
   "execution_count": 3,
   "id": "97eb1c0d",
   "metadata": {},
   "outputs": [
    {
     "ename": "NameError",
     "evalue": "name 'response' is not defined",
     "output_type": "error",
     "traceback": [
      "\u001b[0;31m---------------------------------------------------------------------------\u001b[0m",
      "\u001b[0;31mNameError\u001b[0m                                 Traceback (most recent call last)",
      "Cell \u001b[0;32mIn[3], line 1\u001b[0m\n\u001b[0;32m----> 1\u001b[0m parent_id\u001b[38;5;241m=\u001b[39m\u001b[43mresponse\u001b[49m[\u001b[38;5;124m'\u001b[39m\u001b[38;5;124mparent_id\u001b[39m\u001b[38;5;124m'\u001b[39m]\n",
      "\u001b[0;31mNameError\u001b[0m: name 'response' is not defined"
     ]
    }
   ],
   "source": [
    "parent_id=response['parent_id']"
   ]
  },
  {
   "cell_type": "code",
   "execution_count": 4,
   "id": "027ab8c9",
   "metadata": {},
   "outputs": [
    {
     "ename": "NameError",
     "evalue": "name 'chatbot' is not defined",
     "output_type": "error",
     "traceback": [
      "\u001b[0;31m---------------------------------------------------------------------------\u001b[0m",
      "\u001b[0;31mNameError\u001b[0m                                 Traceback (most recent call last)",
      "Cell \u001b[0;32mIn[4], line 1\u001b[0m\n\u001b[0;32m----> 1\u001b[0m response \u001b[38;5;241m=\u001b[39m \u001b[43mchatbot\u001b[49m\u001b[38;5;241m.\u001b[39mask(\u001b[38;5;124m\"\u001b[39m\u001b[38;5;124mSam love spors and fishing\u001b[39m\u001b[38;5;124m\"\u001b[39m, conversation_id, parent_id) \u001b[38;5;66;03m# You can specify custom conversation and parent ids. Otherwise it uses the saved conversation (yes. conversations are automatically saved)\u001b[39;00m\n\u001b[1;32m      2\u001b[0m \u001b[38;5;28mprint\u001b[39m(response[\u001b[38;5;124m'\u001b[39m\u001b[38;5;124mmessage\u001b[39m\u001b[38;5;124m'\u001b[39m])\n\u001b[1;32m      3\u001b[0m conversation_id\u001b[38;5;241m=\u001b[39mresponse[\u001b[38;5;124m'\u001b[39m\u001b[38;5;124mconversation_id\u001b[39m\u001b[38;5;124m'\u001b[39m]\n",
      "\u001b[0;31mNameError\u001b[0m: name 'chatbot' is not defined"
     ]
    }
   ],
   "source": [
    "response = chatbot.ask(\"Sam love spors and fishing\", conversation_id, parent_id) # You can specify custom conversation and parent ids. Otherwise it uses the saved conversation (yes. conversations are automatically saved)\n",
    "print(response['message'])\n",
    "conversation_id=response['conversation_id']\n",
    "parent_id=response['parent_id']"
   ]
  },
  {
   "cell_type": "code",
   "execution_count": 5,
   "id": "183d9241",
   "metadata": {},
   "outputs": [
    {
     "ename": "NameError",
     "evalue": "name 'chatbot' is not defined",
     "output_type": "error",
     "traceback": [
      "\u001b[0;31m---------------------------------------------------------------------------\u001b[0m",
      "\u001b[0;31mNameError\u001b[0m                                 Traceback (most recent call last)",
      "Cell \u001b[0;32mIn[5], line 1\u001b[0m\n\u001b[0;32m----> 1\u001b[0m response \u001b[38;5;241m=\u001b[39m \u001b[43mchatbot\u001b[49m\u001b[38;5;241m.\u001b[39mask(\u001b[38;5;124m\"\u001b[39m\u001b[38;5;124mSam met Emma who is a mermaid\u001b[39m\u001b[38;5;124m\"\u001b[39m, conversation_id, parent_id) \u001b[38;5;66;03m# You can specify custom conversation and parent ids. Otherwise it uses the saved conversation (yes. conversations are automatically saved)\u001b[39;00m\n\u001b[1;32m      2\u001b[0m \u001b[38;5;28mprint\u001b[39m(response[\u001b[38;5;124m'\u001b[39m\u001b[38;5;124mmessage\u001b[39m\u001b[38;5;124m'\u001b[39m])\n\u001b[1;32m      3\u001b[0m conversation_id\u001b[38;5;241m=\u001b[39mresponse[\u001b[38;5;124m'\u001b[39m\u001b[38;5;124mconversation_id\u001b[39m\u001b[38;5;124m'\u001b[39m]\n",
      "\u001b[0;31mNameError\u001b[0m: name 'chatbot' is not defined"
     ]
    }
   ],
   "source": [
    "response = chatbot.ask(\"Sam met Emma who is a mermaid\", conversation_id, parent_id) # You can specify custom conversation and parent ids. Otherwise it uses the saved conversation (yes. conversations are automatically saved)\n",
    "print(response['message'])\n",
    "conversation_id=response['conversation_id']\n",
    "parent_id=response['parent_id']"
   ]
  },
  {
   "cell_type": "code",
   "execution_count": null,
   "id": "a7f99ea2",
   "metadata": {},
   "outputs": [],
   "source": []
  }
 ],
 "metadata": {
  "kernelspec": {
   "display_name": "Python 3 (ipykernel)",
   "language": "python",
   "name": "python3"
  },
  "language_info": {
   "codemirror_mode": {
    "name": "ipython",
    "version": 3
   },
   "file_extension": ".py",
   "mimetype": "text/x-python",
   "name": "python",
   "nbconvert_exporter": "python",
   "pygments_lexer": "ipython3",
   "version": "3.9.6"
  }
 },
 "nbformat": 4,
 "nbformat_minor": 5
}
